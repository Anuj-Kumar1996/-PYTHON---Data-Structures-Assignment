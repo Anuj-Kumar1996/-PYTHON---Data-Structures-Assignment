{
 "cells": [
  {
   "cell_type": "code",
   "execution_count": null,
   "id": "29465ee9-4ee7-42a4-b9ef-ea9e0dc53fb3",
   "metadata": {},
   "outputs": [],
   "source": [
    "# Q1. How do you comment code in Python? What are the different types of comments?\n",
    "• Single-line comments: Use # for comments on one line\n",
    "• Multi-line comments: Use triple quotes (''' or \"\"\") for multiple lines\n",
    "• Docstring comments: Use triple quotes to document functions, classes, or modules"
   ]
  },
  {
   "cell_type": "code",
   "execution_count": null,
   "id": "9a3b978c-c508-4681-b326-4ca0b851166f",
   "metadata": {},
   "outputs": [],
   "source": [
    "# Q2. What are variables in Python? How do you declare and assign values to variables?\n",
    "Variables in Python are names that refer to values stored in memory. To declare and assign a value:\n",
    "python\n",
    "x = 5  # Declares variable x and assigns value 5\n",
    "name = \"John\"  # Declares variable name and assigns string \"John\""
   ]
  },
  {
   "cell_type": "code",
   "execution_count": null,
   "id": "7ca60207-1eda-47a3-9f44-9305d305daaa",
   "metadata": {},
   "outputs": [],
   "source": [
    "Q3. How do you convert one data type to another in Python?\n",
    "int(x)    # Convert x to integer\n",
    "float(x)  # Convert x to float  \n",
    "str(x)    # Convert x to string\n",
    "bool(x)   # Convert x to boolean\n"
   ]
  },
  {
   "cell_type": "code",
   "execution_count": null,
   "id": "f3c1cd87-0a91-4c28-a1fa-295027fc6fde",
   "metadata": {},
   "outputs": [],
   "source": [
    "Q4. How do you write and execute a Python script from the command line?\n",
    "Write your Python code in a file with .py extension, e.g. script.py\n",
    "Open a command prompt/terminal\n",
    "Navigate to the directory containing your script\n",
    "Run: python script.py"
   ]
  },
  {
   "cell_type": "code",
   "execution_count": null,
   "id": "d8bd6fb7-7e8e-47c5-9b92-5a3c1bda3464",
   "metadata": {},
   "outputs": [],
   "source": [
    "Q5. Given a list my_list = [1, 2, 3, 4, 5], write the code to slice the list and obtain the sub-list [2, 3].\n",
    "\n",
    "my_list = [1, 2, 3, 4, 5]\n",
    "sub_list = my_list[1:3]\n",
    "print(sub_list)  # Outputs: [2, 3]"
   ]
  },
  {
   "cell_type": "code",
   "execution_count": null,
   "id": "0e8a2363-c89e-4177-a014-ca45ff7bf271",
   "metadata": {},
   "outputs": [],
   "source": [
    "Q6. What is a complex number in mathematics, and how is it represented in Python?\n",
    "A complex number has a real and imaginary part\n",
    "z = 2 + 3j  # 2 is real part, 3 is imaginary part\n"
   ]
  },
  {
   "cell_type": "code",
   "execution_count": null,
   "id": "12451db5-7048-48e2-9c00-c04c49a6183c",
   "metadata": {},
   "outputs": [],
   "source": [
    "Q7. What is the correct way to declare a variable named age and assign the value 25 to it?\n",
    "age = int(25)\n",
    "name = \"Anuj"
   ]
  },
  {
   "cell_type": "code",
   "execution_count": null,
   "id": "3ff420d1-99d5-4a8a-80b1-b441d85c9b86",
   "metadata": {},
   "outputs": [],
   "source": [
    "Q8. Declare a variable named price and assign the value 9.99 to it. What data type does this variable belong to?Declare a variable named price and assign the value 9.99 to it. What data type does this variable belong to?\n",
    "price = 9.99, This variable belongs to the float data type."
   ]
  },
  {
   "cell_type": "code",
   "execution_count": null,
   "id": "8707b406-e217-43eb-80b5-11c3f194a69b",
   "metadata": {},
   "outputs": [],
   "source": [
    "Q9. Create a variable named name and assign your full name to it as a string. How would you print the value of this variable?\n",
    "name = \"John Doe\"\n",
    "print(name)"
   ]
  },
  {
   "cell_type": "code",
   "execution_count": null,
   "id": "4f980233-7a2d-4260-8df7-30734bdf3629",
   "metadata": {},
   "outputs": [],
   "source": [
    "Q10. Given the string \"Hello, World!\", extract the substring \"World\".\n",
    "s = \"Hello, World!\"\n",
    "substring = s[7:12]\n",
    "print(substring)  # Outputs: World"
   ]
  },
  {
   "cell_type": "code",
   "execution_count": null,
   "id": "0c451e90-1f0c-4870-a37f-88da5ae5cf29",
   "metadata": {},
   "outputs": [],
   "source": [
    "Q11. Create a variable named \"is_student\" and assign it a boolean value indicating whether you are currently a student or not.\n",
    "\n",
    "is_student = True  # if you are a student\n",
    "# or\n",
    "is_student = False  # if you are not a student"
   ]
  }
 ],
 "metadata": {
  "kernelspec": {
   "display_name": "Python 3 (ipykernel)",
   "language": "python",
   "name": "python3"
  },
  "language_info": {
   "codemirror_mode": {
    "name": "ipython",
    "version": 3
   },
   "file_extension": ".py",
   "mimetype": "text/x-python",
   "name": "python",
   "nbconvert_exporter": "python",
   "pygments_lexer": "ipython3",
   "version": "3.12.4"
  }
 },
 "nbformat": 4,
 "nbformat_minor": 5
}
